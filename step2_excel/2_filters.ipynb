{
 "cells": [
  {
   "cell_type": "code",
   "execution_count": 20,
   "metadata": {},
   "outputs": [
    {
     "name": "stdout",
     "output_type": "stream",
     "text": [
      "         id  service_area_id              order_no  trip_type  hail_type wav  \\\n",
      "0    280761             5915  20221030105413cnKVsH          2          1   f   \n",
      "1    280580             5915  202210300500109nObYm          2          1   f   \n",
      "2    280581             5917  20221030042430nFwmr4          2          1   f   \n",
      "3    280582             5917  20221030045536AteV9o          2          2   f   \n",
      "4    280583             5915  20221030045022YM2U1R          2          2   f   \n",
      "..      ...              ...                   ...        ...        ...  ..   \n",
      "395  280656             5917  20221030072121HGMVmg          2          1   f   \n",
      "396  280653             5915  20221030072528apWTcN          2          1   f   \n",
      "397  280655             5915  20221030071359JjUGOH          2          3   f   \n",
      "398  280657             5917  20221030065758HZ3nad          2          1   f   \n",
      "399  280658             5915  20221030072549YBuo9N          2          1   f   \n",
      "\n",
      "    driver_username                           driver_uuid  \\\n",
      "0               NaN                                   NaN   \n",
      "1               NaN                                   NaN   \n",
      "2           vic2018  5d3a990e-223a-418b-96a4-9956693d4e9e   \n",
      "3               NaN                                   NaN   \n",
      "4           van2526  4ef1bd62-d87b-434c-8590-9f4f1bf79161   \n",
      "..              ...                                   ...   \n",
      "395         vic2026  b340e430-b25c-41b8-ab2f-b2ab10fc5bfd   \n",
      "396             NaN                                   NaN   \n",
      "397         van2526  4ef1bd62-d87b-434c-8590-9f4f1bf79161   \n",
      "398          vic262  9d8840cf-7572-4116-b9d9-57f171fd4a53   \n",
      "399         van1039  fb508cf8-cc75-4750-997b-aacb91526566   \n",
      "\n",
      "                          driver_shift_id  driver_phone  ... donation  \\\n",
      "0                                     NaN           NaN  ...        0   \n",
      "1                                     NaN           NaN  ...        0   \n",
      "2    db6a0d1f-bd67-44c5-a3f5-115a3e6827a0  2.506343e+09  ...        0   \n",
      "3                                     NaN           NaN  ...        0   \n",
      "4    ab75189e-d2c1-41c9-b009-2032e00d6d47  1.236331e+10  ...        0   \n",
      "..                                    ...           ...  ...      ...   \n",
      "395  23988caf-d71b-4e0b-b235-568ad1cf2e46  2.508887e+09  ...        0   \n",
      "396                                   NaN           NaN  ...        0   \n",
      "397  ab75189e-d2c1-41c9-b009-2032e00d6d47  1.236331e+10  ...        0   \n",
      "398  b0535bfd-3cf9-47b8-b421-1702bb98cc12  1.778351e+10  ...        0   \n",
      "399  b6622263-73e6-4b75-a0cc-234e8dc8bc1e  1.778869e+10  ...        0   \n",
      "\n",
      "    platform_rate driver_subsidy  driver_subsidy_id coupon_amount  \\\n",
      "0             NaN              0                NaN             0   \n",
      "1             NaN              0                NaN             0   \n",
      "2            0.80           1000              722.0             0   \n",
      "3             NaN              0                NaN             0   \n",
      "4            0.85            200              719.0             0   \n",
      "..            ...            ...                ...           ...   \n",
      "395           NaN              0                NaN             0   \n",
      "396           NaN              0                NaN             0   \n",
      "397          0.85            500              603.0           500   \n",
      "398          0.80           1000              722.0             0   \n",
      "399           NaN              0                NaN             0   \n",
      "\n",
      "                                coupon_id  driver_points  is_hidden  \\\n",
      "0                                     NaN              0        NaN   \n",
      "1                                     NaN              0        NaN   \n",
      "2                                     NaN              1        NaN   \n",
      "3                                     NaN              0        NaN   \n",
      "4                                     NaN              1        NaN   \n",
      "..                                    ...            ...        ...   \n",
      "395                                   NaN              0        NaN   \n",
      "396                                   NaN              0        NaN   \n",
      "397  c89090f2-8122-4182-8472-0190aa770752              1        NaN   \n",
      "398                                   NaN              1        NaN   \n",
      "399                                   NaN              0        NaN   \n",
      "\n",
      "    points_subsidy_id points_subsidy  \n",
      "0                 NaN              0  \n",
      "1                 NaN              0  \n",
      "2                 NaN              0  \n",
      "3                 NaN              0  \n",
      "4                 NaN              0  \n",
      "..                ...            ...  \n",
      "395               NaN              0  \n",
      "396               NaN              0  \n",
      "397               NaN              0  \n",
      "398               NaN              0  \n",
      "399               NaN              0  \n",
      "\n",
      "[400 rows x 69 columns]\n"
     ]
    }
   ],
   "source": [
    "import pandas as pd \n",
    "\n",
    "df = pd.read_excel(\"2022.10.29-30_Orders.xlsx\")\n",
    "print(df)"
   ]
  },
  {
   "cell_type": "code",
   "execution_count": 27,
   "metadata": {},
   "outputs": [],
   "source": [
    "def filter_driver(driver_username : str, df):\n",
    "    return df[df['driver_username'] == driver_username]\n",
    "\n",
    "def filter_order(order_status : int, df):\n",
    "    return df[df['order_status'] == order_status]\n",
    "\n",
    "\n",
    "COMPLETED_ORDER = 50\n",
    "# Define drivers as unique driver user name\n",
    "drivers = df[\"driver_username\"]\n",
    "drivers = drivers[~pd.isnull(drivers)] #～ == negation 看driver_username是不是 null， 得到drivers这个df\n",
    "drivers = drivers.tolist() #把 drivers 这个df 变成list\n",
    "messages = []\n",
    "\n",
    "\n",
    "# for loop\n",
    "for d in drivers: \n",
    "    total = filter_driver(d , df).shape[0] #总共多少单\n",
    "    completed = filter_order(COMPLETED_ORDER ,filter_driver(d , df)).shape[0] #总共完成了多少单\n",
    "    incompleted = total - completed #总共未完成多少单\n",
    "\n",
    "    # print(total)\n",
    "    # print(completed)\n",
    "    # print(incompleted)\n",
    "\n",
    "    text_messages = \"您已完成{}单 还有{}单未完成\".format(completed, incompleted) #csv里的 message string\n",
    "    messages.append(text_messages)\n",
    "    #print(messages)\n",
    "\n",
    "text_messages_dictionary = {'person':drivers,'message': messages} #defined a dictionary \n",
    "\n",
    "\n",
    "\n",
    "# export pd.df to csv\n",
    "df_tocsv = pd.DataFrame(text_messages_dictionary) #用text_message_dictionary 建立 df_tocsv这个df\n",
    "df_tocsv.to_csv('result.csv', encoding='utf-8', index = False) #把df变成csv\n",
    "\n",
    "\n"
   ]
  },
  {
   "cell_type": "code",
   "execution_count": 31,
   "metadata": {},
   "outputs": [
    {
     "name": "stdout",
     "output_type": "stream",
     "text": [
      "      person          message\n",
      "0    vic2018   您已完成7单 还有4单未完成\n",
      "1    van2526   您已完成9单 还有1单未完成\n",
      "2     van142  您已完成15单 还有3单未完成\n",
      "3     van278   您已完成1单 还有0单未完成\n",
      "4     vic188  您已完成11单 还有1单未完成\n",
      "..       ...              ...\n",
      "306  kabu513   您已完成7单 还有3单未完成\n",
      "307  vic2026  您已完成16单 还有7单未完成\n",
      "308  van2526   您已完成9单 还有1单未完成\n",
      "309   vic262   您已完成2单 还有0单未完成\n",
      "310  van1039   您已完成3单 还有3单未完成\n",
      "\n",
      "[311 rows x 2 columns]\n"
     ]
    },
    {
     "ename": "ValueError",
     "evalue": "You are trying to merge on object and int64 columns. If you wish to proceed you should use pd.concat",
     "output_type": "error",
     "traceback": [
      "\u001b[0;31m---------------------------------------------------------------------------\u001b[0m",
      "\u001b[0;31mValueError\u001b[0m                                Traceback (most recent call last)",
      "\u001b[1;32m/Users/LIYU/Documents/GitHub/kabu-data-analysis-/step2_excel/2_filters.ipynb Cell 3\u001b[0m in \u001b[0;36m<cell line: 8>\u001b[0;34m()\u001b[0m\n\u001b[1;32m      <a href='vscode-notebook-cell:/Users/LIYU/Documents/GitHub/kabu-data-analysis-/step2_excel/2_filters.ipynb#W2sZmlsZQ%3D%3D?line=3'>4</a>\u001b[0m df_wechat \u001b[39m=\u001b[39m pd\u001b[39m.\u001b[39mread_csv(\u001b[39m\"\u001b[39m\u001b[39mwechat.csv\u001b[39m\u001b[39m\"\u001b[39m)\n\u001b[1;32m      <a href='vscode-notebook-cell:/Users/LIYU/Documents/GitHub/kabu-data-analysis-/step2_excel/2_filters.ipynb#W2sZmlsZQ%3D%3D?line=5'>6</a>\u001b[0m df_wechat\n\u001b[0;32m----> <a href='vscode-notebook-cell:/Users/LIYU/Documents/GitHub/kabu-data-analysis-/step2_excel/2_filters.ipynb#W2sZmlsZQ%3D%3D?line=7'>8</a>\u001b[0m df_wechat\u001b[39m.\u001b[39;49mjoin(df_tocsv, on\u001b[39m=\u001b[39;49m\u001b[39m\"\u001b[39;49m\u001b[39mperson\u001b[39;49m\u001b[39m\"\u001b[39;49m, how \u001b[39m=\u001b[39;49m \u001b[39m'\u001b[39;49m\u001b[39minner\u001b[39;49m\u001b[39m'\u001b[39;49m)\n",
      "File \u001b[0;32m~/opt/anaconda3/lib/python3.9/site-packages/pandas/core/frame.py:9254\u001b[0m, in \u001b[0;36mDataFrame.join\u001b[0;34m(self, other, on, how, lsuffix, rsuffix, sort)\u001b[0m\n\u001b[1;32m   9100\u001b[0m \u001b[39mdef\u001b[39;00m \u001b[39mjoin\u001b[39m(\n\u001b[1;32m   9101\u001b[0m     \u001b[39mself\u001b[39m,\n\u001b[1;32m   9102\u001b[0m     other: DataFrame \u001b[39m|\u001b[39m Series,\n\u001b[0;32m   (...)\u001b[0m\n\u001b[1;32m   9107\u001b[0m     sort: \u001b[39mbool\u001b[39m \u001b[39m=\u001b[39m \u001b[39mFalse\u001b[39;00m,\n\u001b[1;32m   9108\u001b[0m ) \u001b[39m-\u001b[39m\u001b[39m>\u001b[39m DataFrame:\n\u001b[1;32m   9109\u001b[0m     \u001b[39m\"\"\"\u001b[39;00m\n\u001b[1;32m   9110\u001b[0m \u001b[39m    Join columns of another DataFrame.\u001b[39;00m\n\u001b[1;32m   9111\u001b[0m \n\u001b[0;32m   (...)\u001b[0m\n\u001b[1;32m   9252\u001b[0m \u001b[39m    5  K1  A5   B1\u001b[39;00m\n\u001b[1;32m   9253\u001b[0m \u001b[39m    \"\"\"\u001b[39;00m\n\u001b[0;32m-> 9254\u001b[0m     \u001b[39mreturn\u001b[39;00m \u001b[39mself\u001b[39;49m\u001b[39m.\u001b[39;49m_join_compat(\n\u001b[1;32m   9255\u001b[0m         other, on\u001b[39m=\u001b[39;49mon, how\u001b[39m=\u001b[39;49mhow, lsuffix\u001b[39m=\u001b[39;49mlsuffix, rsuffix\u001b[39m=\u001b[39;49mrsuffix, sort\u001b[39m=\u001b[39;49msort\n\u001b[1;32m   9256\u001b[0m     )\n",
      "File \u001b[0;32m~/opt/anaconda3/lib/python3.9/site-packages/pandas/core/frame.py:9285\u001b[0m, in \u001b[0;36mDataFrame._join_compat\u001b[0;34m(self, other, on, how, lsuffix, rsuffix, sort)\u001b[0m\n\u001b[1;32m   9276\u001b[0m     \u001b[39mif\u001b[39;00m how \u001b[39m==\u001b[39m \u001b[39m\"\u001b[39m\u001b[39mcross\u001b[39m\u001b[39m\"\u001b[39m:\n\u001b[1;32m   9277\u001b[0m         \u001b[39mreturn\u001b[39;00m merge(\n\u001b[1;32m   9278\u001b[0m             \u001b[39mself\u001b[39m,\n\u001b[1;32m   9279\u001b[0m             other,\n\u001b[0;32m   (...)\u001b[0m\n\u001b[1;32m   9283\u001b[0m             sort\u001b[39m=\u001b[39msort,\n\u001b[1;32m   9284\u001b[0m         )\n\u001b[0;32m-> 9285\u001b[0m     \u001b[39mreturn\u001b[39;00m merge(\n\u001b[1;32m   9286\u001b[0m         \u001b[39mself\u001b[39;49m,\n\u001b[1;32m   9287\u001b[0m         other,\n\u001b[1;32m   9288\u001b[0m         left_on\u001b[39m=\u001b[39;49mon,\n\u001b[1;32m   9289\u001b[0m         how\u001b[39m=\u001b[39;49mhow,\n\u001b[1;32m   9290\u001b[0m         left_index\u001b[39m=\u001b[39;49mon \u001b[39mis\u001b[39;49;00m \u001b[39mNone\u001b[39;49;00m,\n\u001b[1;32m   9291\u001b[0m         right_index\u001b[39m=\u001b[39;49m\u001b[39mTrue\u001b[39;49;00m,\n\u001b[1;32m   9292\u001b[0m         suffixes\u001b[39m=\u001b[39;49m(lsuffix, rsuffix),\n\u001b[1;32m   9293\u001b[0m         sort\u001b[39m=\u001b[39;49msort,\n\u001b[1;32m   9294\u001b[0m     )\n\u001b[1;32m   9295\u001b[0m \u001b[39melse\u001b[39;00m:\n\u001b[1;32m   9296\u001b[0m     \u001b[39mif\u001b[39;00m on \u001b[39mis\u001b[39;00m \u001b[39mnot\u001b[39;00m \u001b[39mNone\u001b[39;00m:\n",
      "File \u001b[0;32m~/opt/anaconda3/lib/python3.9/site-packages/pandas/core/reshape/merge.py:107\u001b[0m, in \u001b[0;36mmerge\u001b[0;34m(left, right, how, on, left_on, right_on, left_index, right_index, sort, suffixes, copy, indicator, validate)\u001b[0m\n\u001b[1;32m     90\u001b[0m \u001b[39m@Substitution\u001b[39m(\u001b[39m\"\u001b[39m\u001b[39m\\n\u001b[39;00m\u001b[39mleft : DataFrame or named Series\u001b[39m\u001b[39m\"\u001b[39m)\n\u001b[1;32m     91\u001b[0m \u001b[39m@Appender\u001b[39m(_merge_doc, indents\u001b[39m=\u001b[39m\u001b[39m0\u001b[39m)\n\u001b[1;32m     92\u001b[0m \u001b[39mdef\u001b[39;00m \u001b[39mmerge\u001b[39m(\n\u001b[0;32m   (...)\u001b[0m\n\u001b[1;32m    105\u001b[0m     validate: \u001b[39mstr\u001b[39m \u001b[39m|\u001b[39m \u001b[39mNone\u001b[39;00m \u001b[39m=\u001b[39m \u001b[39mNone\u001b[39;00m,\n\u001b[1;32m    106\u001b[0m ) \u001b[39m-\u001b[39m\u001b[39m>\u001b[39m DataFrame:\n\u001b[0;32m--> 107\u001b[0m     op \u001b[39m=\u001b[39m _MergeOperation(\n\u001b[1;32m    108\u001b[0m         left,\n\u001b[1;32m    109\u001b[0m         right,\n\u001b[1;32m    110\u001b[0m         how\u001b[39m=\u001b[39;49mhow,\n\u001b[1;32m    111\u001b[0m         on\u001b[39m=\u001b[39;49mon,\n\u001b[1;32m    112\u001b[0m         left_on\u001b[39m=\u001b[39;49mleft_on,\n\u001b[1;32m    113\u001b[0m         right_on\u001b[39m=\u001b[39;49mright_on,\n\u001b[1;32m    114\u001b[0m         left_index\u001b[39m=\u001b[39;49mleft_index,\n\u001b[1;32m    115\u001b[0m         right_index\u001b[39m=\u001b[39;49mright_index,\n\u001b[1;32m    116\u001b[0m         sort\u001b[39m=\u001b[39;49msort,\n\u001b[1;32m    117\u001b[0m         suffixes\u001b[39m=\u001b[39;49msuffixes,\n\u001b[1;32m    118\u001b[0m         copy\u001b[39m=\u001b[39;49mcopy,\n\u001b[1;32m    119\u001b[0m         indicator\u001b[39m=\u001b[39;49mindicator,\n\u001b[1;32m    120\u001b[0m         validate\u001b[39m=\u001b[39;49mvalidate,\n\u001b[1;32m    121\u001b[0m     )\n\u001b[1;32m    122\u001b[0m     \u001b[39mreturn\u001b[39;00m op\u001b[39m.\u001b[39mget_result()\n",
      "File \u001b[0;32m~/opt/anaconda3/lib/python3.9/site-packages/pandas/core/reshape/merge.py:704\u001b[0m, in \u001b[0;36m_MergeOperation.__init__\u001b[0;34m(self, left, right, how, on, left_on, right_on, axis, left_index, right_index, sort, suffixes, copy, indicator, validate)\u001b[0m\n\u001b[1;32m    696\u001b[0m (\n\u001b[1;32m    697\u001b[0m     \u001b[39mself\u001b[39m\u001b[39m.\u001b[39mleft_join_keys,\n\u001b[1;32m    698\u001b[0m     \u001b[39mself\u001b[39m\u001b[39m.\u001b[39mright_join_keys,\n\u001b[1;32m    699\u001b[0m     \u001b[39mself\u001b[39m\u001b[39m.\u001b[39mjoin_names,\n\u001b[1;32m    700\u001b[0m ) \u001b[39m=\u001b[39m \u001b[39mself\u001b[39m\u001b[39m.\u001b[39m_get_merge_keys()\n\u001b[1;32m    702\u001b[0m \u001b[39m# validate the merge keys dtypes. We may need to coerce\u001b[39;00m\n\u001b[1;32m    703\u001b[0m \u001b[39m# to avoid incompatible dtypes\u001b[39;00m\n\u001b[0;32m--> 704\u001b[0m \u001b[39mself\u001b[39;49m\u001b[39m.\u001b[39;49m_maybe_coerce_merge_keys()\n\u001b[1;32m    706\u001b[0m \u001b[39m# If argument passed to validate,\u001b[39;00m\n\u001b[1;32m    707\u001b[0m \u001b[39m# check if columns specified as unique\u001b[39;00m\n\u001b[1;32m    708\u001b[0m \u001b[39m# are in fact unique.\u001b[39;00m\n\u001b[1;32m    709\u001b[0m \u001b[39mif\u001b[39;00m validate \u001b[39mis\u001b[39;00m \u001b[39mnot\u001b[39;00m \u001b[39mNone\u001b[39;00m:\n",
      "File \u001b[0;32m~/opt/anaconda3/lib/python3.9/site-packages/pandas/core/reshape/merge.py:1257\u001b[0m, in \u001b[0;36m_MergeOperation._maybe_coerce_merge_keys\u001b[0;34m(self)\u001b[0m\n\u001b[1;32m   1251\u001b[0m     \u001b[39m# unless we are merging non-string-like with string-like\u001b[39;00m\n\u001b[1;32m   1252\u001b[0m     \u001b[39melif\u001b[39;00m (\n\u001b[1;32m   1253\u001b[0m         inferred_left \u001b[39min\u001b[39;00m string_types \u001b[39mand\u001b[39;00m inferred_right \u001b[39mnot\u001b[39;00m \u001b[39min\u001b[39;00m string_types\n\u001b[1;32m   1254\u001b[0m     ) \u001b[39mor\u001b[39;00m (\n\u001b[1;32m   1255\u001b[0m         inferred_right \u001b[39min\u001b[39;00m string_types \u001b[39mand\u001b[39;00m inferred_left \u001b[39mnot\u001b[39;00m \u001b[39min\u001b[39;00m string_types\n\u001b[1;32m   1256\u001b[0m     ):\n\u001b[0;32m-> 1257\u001b[0m         \u001b[39mraise\u001b[39;00m \u001b[39mValueError\u001b[39;00m(msg)\n\u001b[1;32m   1259\u001b[0m \u001b[39m# datetimelikes must match exactly\u001b[39;00m\n\u001b[1;32m   1260\u001b[0m \u001b[39melif\u001b[39;00m needs_i8_conversion(lk\u001b[39m.\u001b[39mdtype) \u001b[39mand\u001b[39;00m \u001b[39mnot\u001b[39;00m needs_i8_conversion(rk\u001b[39m.\u001b[39mdtype):\n",
      "\u001b[0;31mValueError\u001b[0m: You are trying to merge on object and int64 columns. If you wish to proceed you should use pd.concat"
     ]
    }
   ],
   "source": [
    "#join a wechat id csv with correspondingdrivers and messages csv\n",
    "print(df_tocsv['person'])\n",
    "\n",
    "df_wechat = pd.read_csv(\"wechat.csv\")\n",
    "\n",
    "df_wechat['person']\n",
    "print(df_wechat['person'])\n",
    "\n",
    "# df_wechat.join(df_tocsv, on=\"person\", how = 'inner')"
   ]
  }
 ],
 "metadata": {
  "kernelspec": {
   "display_name": "Python 3.9.12 ('base')",
   "language": "python",
   "name": "python3"
  },
  "language_info": {
   "codemirror_mode": {
    "name": "ipython",
    "version": 3
   },
   "file_extension": ".py",
   "mimetype": "text/x-python",
   "name": "python",
   "nbconvert_exporter": "python",
   "pygments_lexer": "ipython3",
   "version": "3.9.12"
  },
  "orig_nbformat": 4,
  "vscode": {
   "interpreter": {
    "hash": "528e8cac0d4a7c39ccbdd280703d61cd3f891176b571323b04862a96a52bb200"
   }
  }
 },
 "nbformat": 4,
 "nbformat_minor": 2
}
